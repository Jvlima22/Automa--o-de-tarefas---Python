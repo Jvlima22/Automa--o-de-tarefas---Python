{
 "cells": [
  {
   "cell_type": "markdown",
   "id": "d411e58b",
   "metadata": {},
   "source": [
    "# Criando automação de tarefas"
   ]
  },
  {
   "cell_type": "markdown",
   "id": "cb9b4df8",
   "metadata": {},
   "source": [
    "# Automatizar trabalho manual\n",
    "\n",
    "- 1° Entrar no Yahoo Finance\n",
    "- 2° Selecionar a ação\n",
    "- 3° Selecionar o período\n",
    "- 4° Fazer download dos dados\n",
    "- 5° Montar análises\n",
    "- 6° Preparar e-mail\n",
    "- 7° Enviar e-mail\n",
    "\n",
    "# Simplificando tarefas do trabalho manual\n",
    "\n",
    "- Busca, de forma automática, informações da ações de bolsa de valores;\n",
    "- Criar análise solicitada pelo gestor;\n",
    "- Enviar, automaticamente o e-mail, com o resultado da análise."
   ]
  },
  {
   "cell_type": "markdown",
   "id": "122f5195",
   "metadata": {},
   "source": [
    "# Buscando dados das ações\n"
   ]
  },
  {
   "cell_type": "code",
   "execution_count": 1,
   "id": "2c4739de",
   "metadata": {},
   "outputs": [],
   "source": [
    "import yfinance"
   ]
  },
  {
   "cell_type": "code",
   "execution_count": 2,
   "id": "8a23503f",
   "metadata": {},
   "outputs": [
    {
     "name": "stderr",
     "output_type": "stream",
     "text": [
      "PETR4.SA: No price data found, symbol may be delisted (period=6mo)\n"
     ]
    }
   ],
   "source": [
    "codigo = input(\"Digite o código da ação: \")\n",
    "\n",
    "acoes = yfinance.Ticker(codigo).history(\"6mo\")"
   ]
  },
  {
   "cell_type": "markdown",
   "id": "fd065631",
   "metadata": {},
   "source": [
    "# Inserindo as ações ao atributo \"fechamento\" e trazendo a tabela \"Close\""
   ]
  },
  {
   "cell_type": "code",
   "execution_count": 3,
   "id": "075ec931",
   "metadata": {},
   "outputs": [],
   "source": [
    "fechamento = acoes.Close"
   ]
  },
  {
   "cell_type": "markdown",
   "id": "320fa0d8",
   "metadata": {},
   "source": [
    "# Inserindo gráfico com \"plot()\""
   ]
  },
  {
   "cell_type": "code",
   "execution_count": 4,
   "id": "45b93004",
   "metadata": {},
   "outputs": [
    {
     "data": {
      "text/plain": [
       "<Axes: xlabel='Date'>"
      ]
     },
     "execution_count": 4,
     "metadata": {},
     "output_type": "execute_result"
    },
    {
     "data": {
      "image/png": "[encoded data removed]",
      "text/plain": [
       "<Figure size 640x480 with 1 Axes>"
      ]
     },
     "metadata": {},
     "output_type": "display_data"
    }
   ],
   "source": [
    "fechamento.plot()"
   ]
  },
  {
   "cell_type": "markdown",
   "id": "5ecb4d39",
   "metadata": {},
   "source": [
    "# Gerar análises do dados\n",
    "\n",
    "- 6 meses\n",
    "- Cotação máxima\n",
    "- Cotação mínima \n",
    "- Cotação atual\n"
   ]
  },
  {
   "cell_type": "code",
   "execution_count": 5,
   "id": "5e226c1e",
   "metadata": {},
   "outputs": [
    {
     "ename": "IndexError",
     "evalue": "index -1 is out of bounds for axis 0 with size 0",
     "output_type": "error",
     "traceback": [
      "\u001b[1;31m---------------------------------------------------------------------------\u001b[0m",
      "\u001b[1;31mIndexError\u001b[0m                                Traceback (most recent call last)",
      "\u001b[1;32mc:\\Users\\josul\\OneDrive\\Documentos\\Visual Studio 2022\\Projetos\\Projetos - Python\\Automação de tarefas - Python\\Automação de tarefas.ipynb Cell 11\u001b[0m line \u001b[0;36m3\n\u001b[0;32m      <a href='vscode-notebook-cell:/c%3A/Users/josul/OneDrive/Documentos/Visual%20Studio%202022/Projetos/Projetos%20-%20Python/Automa%C3%A7%C3%A3o%20de%20tarefas%20-%20Python/Automa%C3%A7%C3%A3o%20de%20tarefas.ipynb#X13sZmlsZQ%3D%3D?line=0'>1</a>\u001b[0m maxima \u001b[39m=\u001b[39m \u001b[39mround\u001b[39m(fechamento\u001b[39m.\u001b[39mmax(),\u001b[39m2\u001b[39m)\n\u001b[0;32m      <a href='vscode-notebook-cell:/c%3A/Users/josul/OneDrive/Documentos/Visual%20Studio%202022/Projetos/Projetos%20-%20Python/Automa%C3%A7%C3%A3o%20de%20tarefas%20-%20Python/Automa%C3%A7%C3%A3o%20de%20tarefas.ipynb#X13sZmlsZQ%3D%3D?line=1'>2</a>\u001b[0m minima \u001b[39m=\u001b[39m \u001b[39mround\u001b[39m(fechamento\u001b[39m.\u001b[39mmin(),\u001b[39m2\u001b[39m)\n\u001b[1;32m----> <a href='vscode-notebook-cell:/c%3A/Users/josul/OneDrive/Documentos/Visual%20Studio%202022/Projetos/Projetos%20-%20Python/Automa%C3%A7%C3%A3o%20de%20tarefas%20-%20Python/Automa%C3%A7%C3%A3o%20de%20tarefas.ipynb#X13sZmlsZQ%3D%3D?line=2'>3</a>\u001b[0m atual \u001b[39m=\u001b[39m \u001b[39mround\u001b[39m(fechamento[\u001b[39m-\u001b[39m\u001b[39m1\u001b[39m],\u001b[39m2\u001b[39m)\n",
      "File \u001b[1;32mc:\\Users\\josul\\Python\\anaconda3\\Lib\\site-packages\\pandas\\core\\series.py:1004\u001b[0m, in \u001b[0;36mSeries.__getitem__\u001b[1;34m(self, key)\u001b[0m\n\u001b[0;32m   1001\u001b[0m     key \u001b[39m=\u001b[39m unpack_1tuple(key)\n\u001b[0;32m   1003\u001b[0m \u001b[39mif\u001b[39;00m is_integer(key) \u001b[39mand\u001b[39;00m \u001b[39mself\u001b[39m\u001b[39m.\u001b[39mindex\u001b[39m.\u001b[39m_should_fallback_to_positional:\n\u001b[1;32m-> 1004\u001b[0m     \u001b[39mreturn\u001b[39;00m \u001b[39mself\u001b[39m\u001b[39m.\u001b[39m_values[key]\n\u001b[0;32m   1006\u001b[0m \u001b[39melif\u001b[39;00m key_is_scalar:\n\u001b[0;32m   1007\u001b[0m     \u001b[39mreturn\u001b[39;00m \u001b[39mself\u001b[39m\u001b[39m.\u001b[39m_get_value(key)\n",
      "\u001b[1;31mIndexError\u001b[0m: index -1 is out of bounds for axis 0 with size 0"
     ]
    }
   ],
   "source": [
    "maxima = round(fechamento.max(),2)\n",
    "minima = round(fechamento.min(),2)\n",
    "atual = round(fechamento[-1],2)"
   ]
  },
  {
   "cell_type": "code",
   "execution_count": null,
   "id": "4508349c",
   "metadata": {},
   "outputs": [
    {
     "name": "stdout",
     "output_type": "stream",
     "text": [
      "38.52\n",
      "20.49\n",
      "35.44\n"
     ]
    }
   ],
   "source": [
    "print(maxima)\n",
    "print(minima)\n",
    "print(atual)"
   ]
  },
  {
   "cell_type": "markdown",
   "id": "baa6798d",
   "metadata": {},
   "source": [
    "# Enviar e-mail automaticamente \n",
    "\n",
    "- 1° Abrir nova aba (click CTRL+T)\n",
    "- 2° Entrar no endereço do gmail\n",
    "- 3° Clicar em enter \n",
    "- 4° Clicar em escrever\n",
    "- 5° Preencher o destinatário (click tab)\n",
    "- 6° Preencher o assunto (click tab)\n",
    "- 7° Preencher o corpo do e-mail\n",
    "- 8° Clicar em enviar"
   ]
  },
  {
   "cell_type": "code",
   "execution_count": 6,
   "id": "4b5403a5",
   "metadata": {},
   "outputs": [],
   "source": [
    "import pyautogui\n",
    "import pyperclip"
   ]
  },
  {
   "cell_type": "code",
   "execution_count": 7,
   "id": "a77ea7c8",
   "metadata": {},
   "outputs": [
    {
     "ename": "NameError",
     "evalue": "name 'atual' is not defined",
     "output_type": "error",
     "traceback": [
      "\u001b[1;31m---------------------------------------------------------------------------\u001b[0m",
      "\u001b[1;31mNameError\u001b[0m                                 Traceback (most recent call last)",
      "\u001b[1;32mc:\\Users\\josul\\OneDrive\\Documentos\\Visual Studio 2022\\Projetos\\Projetos - Python\\Automação de tarefas - Python\\Automação de tarefas.ipynb Cell 15\u001b[0m line \u001b[0;36m3\n\u001b[0;32m     <a href='vscode-notebook-cell:/c%3A/Users/josul/OneDrive/Documentos/Visual%20Studio%202022/Projetos/Projetos%20-%20Python/Automa%C3%A7%C3%A3o%20de%20tarefas%20-%20Python/Automa%C3%A7%C3%A3o%20de%20tarefas.ipynb#X20sZmlsZQ%3D%3D?line=22'>23</a>\u001b[0m pyautogui\u001b[39m.\u001b[39mhotkey(\u001b[39m\"\u001b[39m\u001b[39mtab\u001b[39m\u001b[39m\"\u001b[39m)\n\u001b[0;32m     <a href='vscode-notebook-cell:/c%3A/Users/josul/OneDrive/Documentos/Visual%20Studio%202022/Projetos/Projetos%20-%20Python/Automa%C3%A7%C3%A3o%20de%20tarefas%20-%20Python/Automa%C3%A7%C3%A3o%20de%20tarefas.ipynb#X20sZmlsZQ%3D%3D?line=24'>25</a>\u001b[0m \u001b[39m# 7° Preencher o corpo do e-mail\u001b[39;00m\n\u001b[0;32m     <a href='vscode-notebook-cell:/c%3A/Users/josul/OneDrive/Documentos/Visual%20Studio%202022/Projetos/Projetos%20-%20Python/Automa%C3%A7%C3%A3o%20de%20tarefas%20-%20Python/Automa%C3%A7%C3%A3o%20de%20tarefas.ipynb#X20sZmlsZQ%3D%3D?line=25'>26</a>\u001b[0m mensagem \u001b[39m=\u001b[39m \u001b[39mf\u001b[39m\u001b[39m\"\"\"\u001b[39m\u001b[39m \u001b[39m\n\u001b[0;32m     <a href='vscode-notebook-cell:/c%3A/Users/josul/OneDrive/Documentos/Visual%20Studio%202022/Projetos/Projetos%20-%20Python/Automa%C3%A7%C3%A3o%20de%20tarefas%20-%20Python/Automa%C3%A7%C3%A3o%20de%20tarefas.ipynb#X20sZmlsZQ%3D%3D?line=26'>27</a>\u001b[0m \u001b[39mOlá prezado Josué, \u001b[39m\n\u001b[0;32m     <a href='vscode-notebook-cell:/c%3A/Users/josul/OneDrive/Documentos/Visual%20Studio%202022/Projetos/Projetos%20-%20Python/Automa%C3%A7%C3%A3o%20de%20tarefas%20-%20Python/Automa%C3%A7%C3%A3o%20de%20tarefas.ipynb#X20sZmlsZQ%3D%3D?line=27'>28</a>\u001b[0m \n\u001b[0;32m     <a href='vscode-notebook-cell:/c%3A/Users/josul/OneDrive/Documentos/Visual%20Studio%202022/Projetos/Projetos%20-%20Python/Automa%C3%A7%C3%A3o%20de%20tarefas%20-%20Python/Automa%C3%A7%C3%A3o%20de%20tarefas.ipynb#X20sZmlsZQ%3D%3D?line=28'>29</a>\u001b[0m \u001b[39mSeguem as análises das ações da \u001b[39m\u001b[39m{\u001b[39;00mcodigo\u001b[39m}\u001b[39;00m\u001b[39m referentes ao últimos 6 meses!\u001b[39m\n\u001b[0;32m     <a href='vscode-notebook-cell:/c%3A/Users/josul/OneDrive/Documentos/Visual%20Studio%202022/Projetos/Projetos%20-%20Python/Automa%C3%A7%C3%A3o%20de%20tarefas%20-%20Python/Automa%C3%A7%C3%A3o%20de%20tarefas.ipynb#X20sZmlsZQ%3D%3D?line=29'>30</a>\u001b[0m \n\u001b[0;32m     <a href='vscode-notebook-cell:/c%3A/Users/josul/OneDrive/Documentos/Visual%20Studio%202022/Projetos/Projetos%20-%20Python/Automa%C3%A7%C3%A3o%20de%20tarefas%20-%20Python/Automa%C3%A7%C3%A3o%20de%20tarefas.ipynb#X20sZmlsZQ%3D%3D?line=30'>31</a>\u001b[0m \u001b[39mCotação Máxima: R$\u001b[39m\u001b[39m{\u001b[39;00mmaxima\u001b[39m}\u001b[39;00m\n\u001b[0;32m     <a href='vscode-notebook-cell:/c%3A/Users/josul/OneDrive/Documentos/Visual%20Studio%202022/Projetos/Projetos%20-%20Python/Automa%C3%A7%C3%A3o%20de%20tarefas%20-%20Python/Automa%C3%A7%C3%A3o%20de%20tarefas.ipynb#X20sZmlsZQ%3D%3D?line=31'>32</a>\u001b[0m \u001b[39mCotação Mínima: R$\u001b[39m\u001b[39m{\u001b[39;00mminima\u001b[39m}\u001b[39;00m\n\u001b[1;32m---> <a href='vscode-notebook-cell:/c%3A/Users/josul/OneDrive/Documentos/Visual%20Studio%202022/Projetos/Projetos%20-%20Python/Automa%C3%A7%C3%A3o%20de%20tarefas%20-%20Python/Automa%C3%A7%C3%A3o%20de%20tarefas.ipynb#X20sZmlsZQ%3D%3D?line=32'>33</a>\u001b[0m \u001b[39mCotação Atual: R$\u001b[39m\u001b[39m{\u001b[39;00matual\u001b[39m}\u001b[39;00m\n\u001b[0;32m     <a href='vscode-notebook-cell:/c%3A/Users/josul/OneDrive/Documentos/Visual%20Studio%202022/Projetos/Projetos%20-%20Python/Automa%C3%A7%C3%A3o%20de%20tarefas%20-%20Python/Automa%C3%A7%C3%A3o%20de%20tarefas.ipynb#X20sZmlsZQ%3D%3D?line=33'>34</a>\u001b[0m \n\u001b[0;32m     <a href='vscode-notebook-cell:/c%3A/Users/josul/OneDrive/Documentos/Visual%20Studio%202022/Projetos/Projetos%20-%20Python/Automa%C3%A7%C3%A3o%20de%20tarefas%20-%20Python/Automa%C3%A7%C3%A3o%20de%20tarefas.ipynb#X20sZmlsZQ%3D%3D?line=34'>35</a>\u001b[0m \u001b[39mQualquer dúvida, estou à disposição!\u001b[39m\n\u001b[0;32m     <a href='vscode-notebook-cell:/c%3A/Users/josul/OneDrive/Documentos/Visual%20Studio%202022/Projetos/Projetos%20-%20Python/Automa%C3%A7%C3%A3o%20de%20tarefas%20-%20Python/Automa%C3%A7%C3%A3o%20de%20tarefas.ipynb#X20sZmlsZQ%3D%3D?line=35'>36</a>\u001b[0m \u001b[39m\"\"\"\u001b[39m\n\u001b[0;32m     <a href='vscode-notebook-cell:/c%3A/Users/josul/OneDrive/Documentos/Visual%20Studio%202022/Projetos/Projetos%20-%20Python/Automa%C3%A7%C3%A3o%20de%20tarefas%20-%20Python/Automa%C3%A7%C3%A3o%20de%20tarefas.ipynb#X20sZmlsZQ%3D%3D?line=37'>38</a>\u001b[0m pyperclip\u001b[39m.\u001b[39mcopy(mensagem)\n\u001b[0;32m     <a href='vscode-notebook-cell:/c%3A/Users/josul/OneDrive/Documentos/Visual%20Studio%202022/Projetos/Projetos%20-%20Python/Automa%C3%A7%C3%A3o%20de%20tarefas%20-%20Python/Automa%C3%A7%C3%A3o%20de%20tarefas.ipynb#X20sZmlsZQ%3D%3D?line=38'>39</a>\u001b[0m pyautogui\u001b[39m.\u001b[39mhotkey(\u001b[39m\"\u001b[39m\u001b[39mctrl\u001b[39m\u001b[39m\"\u001b[39m, \u001b[39m\"\u001b[39m\u001b[39mv\u001b[39m\u001b[39m\"\u001b[39m)\n",
      "\u001b[1;31mNameError\u001b[0m: name 'atual' is not defined"
     ]
    }
   ],
   "source": [
    "# Tempo de pausa na execução\n",
    "pyautogui.PAUSE = 3\n",
    "\n",
    "# 1° Abrir nova aba (click CTRL+T)\n",
    "pyautogui.hotkey(\"ctrl\", \"t\")\n",
    "\n",
    "# 2° Entrar no endereço do gmail\n",
    "pyperclip.copy(\"www.gmail.com\")\n",
    "pyautogui.hotkey(\"ctrl\", \"v\")\n",
    "pyautogui.hotkey(\"enter\")\n",
    "\n",
    "# 4° Clicar em escrever\n",
    "pyautogui.click(x=41, y=221)\n",
    "\n",
    "# Preencher o destinatário (click tab)\n",
    "pyperclip.copy(\"josulima90@gmail.com\")\n",
    "pyautogui.hotkey(\"ctrl\", \"v\")\n",
    "pyautogui.hotkey(\"tab\")\n",
    "\n",
    "# Preencher o assunto (click tab)\n",
    "pyperclip.copy(\"Análises diárias das ações da bolsa\")\n",
    "pyautogui.hotkey(\"ctrl\", \"v\")\n",
    "pyautogui.hotkey(\"tab\")\n",
    "\n",
    "# 7° Preencher o corpo do e-mail\n",
    "mensagem = f\"\"\" \n",
    "Olá prezado Josué, \n",
    "\n",
    "Seguem as análises das ações da {codigo} referentes ao últimos 6 meses!\n",
    "\n",
    "Cotação Máxima: R${maxima}\n",
    "Cotação Mínima: R${minima}\n",
    "Cotação Atual: R${atual}\n",
    "\n",
    "Qualquer dúvida, estou à disposição!\n",
    "\"\"\"\n",
    "\n",
    "pyperclip.copy(mensagem)\n",
    "pyautogui.hotkey(\"ctrl\", \"v\")\n",
    "    \n",
    "# 8° Clicar em enviar\n",
    "pyautogui.click(x=847, y=690)"
   ]
  },
  {
   "cell_type": "code",
   "execution_count": null,
   "id": "a7b07897",
   "metadata": {},
   "outputs": [],
   "source": [
    "import time"
   ]
  },
  {
   "cell_type": "code",
   "execution_count": null,
   "id": "249b840b",
   "metadata": {},
   "outputs": [
    {
     "data": {
      "text/plain": [
       "Point(x=550, y=399)"
      ]
     },
     "execution_count": 10,
     "metadata": {},
     "output_type": "execute_result"
    }
   ],
   "source": [
    "time.sleep(5)\n",
    "pyautogui.position() \n",
    "\n"
   ]
  }
 ],
 "metadata": {
  "kernelspec": {
   "display_name": "Python 3 (ipykernel)",
   "language": "python",
   "name": "python3"
  },
  "language_info": {
   "codemirror_mode": {
    "name": "ipython",
    "version": 3
   },
   "file_extension": ".py",
   "mimetype": "text/x-python",
   "name": "python",
   "nbconvert_exporter": "python",
   "pygments_lexer": "ipython3",
   "version": "3.11.5"
  }
 },
 "nbformat": 4,
 "nbformat_minor": 5
}
